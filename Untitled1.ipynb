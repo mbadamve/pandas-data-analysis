{
 "cells": [
  {
   "cell_type": "code",
   "execution_count": null,
   "metadata": {},
   "outputs": [
    {
     "name": "stdout",
     "output_type": "stream",
     "text": [
      "Collecting package metadata (current_repodata.json): done\n",
      "Solving environment: | \n",
      "The environment is inconsistent, please check the package plan carefully\n",
      "The following packages are causing the inconsistency:\n",
      "\n",
      "  - defaults/osx-64::pytest-astropy==0.5.0=py37_0\n",
      "  - defaults/osx-64::jupyter==1.0.0=py37_7\n",
      "  - defaults/osx-64::scikit-image==0.15.0=py37h0a44026_0\n",
      "  - defaults/osx-64::widgetsnbextension==3.5.1=py37_0\n",
      "  - defaults/osx-64::ipython==7.8.0=py37h39e3cac_0\n",
      "  - defaults/osx-64::pytest-arraydiff==0.3=py37h39e3cac_0\n",
      "  - defaults/noarch::ipywidgets==7.5.1=py_0\n",
      "  - defaults/osx-64::scikit-learn==0.21.3=py37h27c97d8_0\n",
      "  - defaults/noarch::jupyterlab_server==1.0.6=py_0\n",
      "  - defaults/noarch::jupyterlab==1.1.4=pyhf63ae98_0\n",
      "  - defaults/osx-64::anaconda==2019.10=py37_0\n",
      "  - defaults/osx-64::jupyter_console==6.0.0=py37_0\n",
      "  - defaults/noarch::pytest-openfiles==0.4.0=py_0\n",
      "  - defaults/osx-64::statsmodels==0.10.1=py37h1d22016_0\n",
      "  - defaults/osx-64::seaborn==0.9.0=py37_0\n",
      "  - defaults/osx-64::pytest-remotedata==0.3.2=py37_0\n",
      "  - defaults/osx-64::patsy==0.5.1=py37_0\n",
      "  - defaults/osx-64::notebook==6.0.1=py37_0\n",
      "  - defaults/noarch::pytest-doctestplus==0.4.0=py_0\n",
      "  - defaults/osx-64::_ipyw_jlab_nb_ext_conf==0.1.0=py37_0\n",
      "  - defaults/osx-64::astropy==3.2.2=py37h1de35cc_0\n",
      "  - defaults/osx-64::ipykernel==5.1.2=py37h39e3cac_0\n",
      "failed with initial frozen solve. Retrying with flexible solve.\n",
      "Solving environment: - "
     ]
    }
   ],
   "source": [
    "conda install -c conda-forge jupyter_nbextensions_configurator"
   ]
  },
  {
   "cell_type": "code",
   "execution_count": null,
   "metadata": {},
   "outputs": [],
   "source": [
    "jupyter nbextension enable hinterland/hinterland"
   ]
  },
  {
   "cell_type": "code",
   "execution_count": null,
   "metadata": {},
   "outputs": [],
   "source": []
  }
 ],
 "metadata": {
  "kernelspec": {
   "display_name": "Python 3",
   "language": "python",
   "name": "python3"
  },
  "language_info": {
   "codemirror_mode": {
    "name": "ipython",
    "version": 3
   },
   "file_extension": ".py",
   "mimetype": "text/x-python",
   "name": "python",
   "nbconvert_exporter": "python",
   "pygments_lexer": "ipython3",
   "version": "3.7.4"
  }
 },
 "nbformat": 4,
 "nbformat_minor": 4
}
